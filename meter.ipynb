{
 "cells": [
  {
   "cell_type": "code",
   "execution_count": 144,
   "metadata": {},
   "outputs": [],
   "source": [
    "import pandas as pd"
   ]
  },
  {
   "cell_type": "code",
   "execution_count": 145,
   "metadata": {},
   "outputs": [
    {
     "data": {
      "text/plain": [
       "584"
      ]
     },
     "execution_count": 145,
     "metadata": {},
     "output_type": "execute_result"
    }
   ],
   "source": [
    "df = pd.read_csv('data/main/charger.csv')\n",
    "df[\"timestamp\"] = pd.to_datetime(df[\"timestamp\"])\n",
    "df[\"timestamp\"] = df[\"timestamp\"].dt.tz_convert(\n",
    "    \"Europe/Oslo\"\n",
    ")\n",
    "gdf = df.groupby(['site_key', 'timestamp']).sum('value').reset_index()\n",
    "gdf['site_key'].unique().size"
   ]
  },
  {
   "cell_type": "code",
   "execution_count": 146,
   "metadata": {},
   "outputs": [],
   "source": [
    "gdf['day'] = gdf['timestamp'].dt.day\n",
    "gdf['month'] = gdf['timestamp'].dt.month\n",
    "gdf['year'] = gdf['timestamp'].dt.year\n",
    "# gdf[gdf['month'] == 12].sort_values('value', ascending=False).head(5)[[\"timestamp\", \"value\"]]"
   ]
  },
  {
   "cell_type": "code",
   "execution_count": 147,
   "metadata": {
    "vscode": {
     "languageId": "ruby"
    }
   },
   "outputs": [
    {
     "name": "stdout",
     "output_type": "stream",
     "text": [
      "       site_key  year  month  level_3      value\n",
      "0     24U4-G222  2024     12        1   7.571368\n",
      "1     24U4-G222  2024     12       14   7.566715\n",
      "2     24U4-G222  2024     12        8   7.553243\n",
      "3     24U4-G222  2025      1       35   7.539638\n",
      "4     24U4-G222  2025      1       31   7.524898\n",
      "...         ...   ...    ...      ...        ...\n",
      "3466  ZZUF-H222  2024     12    27219  16.849098\n",
      "3467  ZZUF-H222  2024     12    27220  16.560462\n",
      "3468  ZZUF-H222  2025      1    27231  12.060527\n",
      "3469  ZZUF-H222  2025      1    27232  11.381672\n",
      "3470  ZZUF-H222  2025      1    27245  11.002890\n",
      "\n",
      "[3471 rows x 5 columns]\n",
      "       site_key  year  month        value\n",
      "0     24U4-G222  2024     12     7.563775\n",
      "1     24U4-G222  2025      1     7.526582\n",
      "2     28GD-L522  2024     12    52.947657\n",
      "3     28GD-L522  2025      1    88.455922\n",
      "4     28T4-7722  2024     12    91.144472\n",
      "...         ...   ...    ...          ...\n",
      "1158  ZXKY-B622  2025      1     2.626631\n",
      "1159  ZYY4-R522  2024     12    22.328309\n",
      "1160  ZYY4-R522  2025      1  1110.050625\n",
      "1161  ZZUF-H222  2024     12    81.414189\n",
      "1162  ZZUF-H222  2025      1    11.481696\n",
      "\n",
      "[1163 rows x 4 columns]\n"
     ]
    }
   ],
   "source": [
    "gdf1 = gdf.groupby(['site_key',  'year', 'month','day',])['value'].max().reset_index()\n",
    "gdf2 = gdf1.groupby(['site_key', 'year','month', ])['value'].nlargest(3).reset_index()\n",
    "print(gdf2)\n",
    "gdf3 = gdf2.groupby(['site_key', 'year','month'])['value'].mean().reset_index()\n",
    "print(gdf3)\n",
    "\n",
    "gdf3.to_csv('output.csv', index=False)"
   ]
  }
 ],
 "metadata": {
  "kernelspec": {
   "display_name": "base",
   "language": "python",
   "name": "python3"
  },
  "language_info": {
   "codemirror_mode": {
    "name": "ipython",
    "version": 3
   },
   "file_extension": ".py",
   "mimetype": "text/x-python",
   "name": "python",
   "nbconvert_exporter": "python",
   "pygments_lexer": "ipython3",
   "version": "3.12.8"
  }
 },
 "nbformat": 4,
 "nbformat_minor": 2
}
